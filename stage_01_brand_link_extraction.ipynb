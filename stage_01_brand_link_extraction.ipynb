{
 "cells": [
  {
   "cell_type": "code",
   "execution_count": 1,
   "metadata": {},
   "outputs": [],
   "source": [
    "import pandas as pd\n",
    "import numpy as np\n",
    "import requests\n",
    "from bs4 import BeautifulSoup"
   ]
  },
  {
   "cell_type": "code",
   "execution_count": 2,
   "metadata": {},
   "outputs": [],
   "source": [
    "headers = {\n",
    "    \"URL\": \"www.amazon.com\",\n",
    "    \"accept-language\": \"en-US,en;q=0.9,bn;q=0.8\",\n",
    "    \"user-agent\": \"Mozilla/5.0 (Windows NT 10.0; Win64; x64) AppleWebKit/537.36 (KHTML, like Gecko) Chrome/102.0.0.0 Safari/537.36\",\n",
    "}"
   ]
  },
  {
   "cell_type": "code",
   "execution_count": 3,
   "metadata": {},
   "outputs": [],
   "source": [
    "url = \"https://www.gsmarena.com/makers.php3\""
   ]
  },
  {
   "cell_type": "code",
   "execution_count": 4,
   "metadata": {},
   "outputs": [],
   "source": [
    "response = requests.get(url, headers=headers)"
   ]
  },
  {
   "cell_type": "code",
   "execution_count": 5,
   "metadata": {},
   "outputs": [],
   "source": [
    "soup = BeautifulSoup(response.content, \"html.parser\")"
   ]
  },
  {
   "cell_type": "code",
   "execution_count": 6,
   "metadata": {},
   "outputs": [],
   "source": [
    "tags = soup.select(\"tr\")"
   ]
  },
  {
   "cell_type": "code",
   "execution_count": 7,
   "metadata": {},
   "outputs": [],
   "source": [
    "data = []"
   ]
  },
  {
   "cell_type": "code",
   "execution_count": 8,
   "metadata": {},
   "outputs": [],
   "source": [
    "for tag in tags:\n",
    "    link = tag.select_one(\"td a\").get(\"href\")\n",
    "    name = tag.select_one(\"td a\").get_text()\n",
    "    data.append((name, link))"
   ]
  },
  {
   "cell_type": "code",
   "execution_count": 9,
   "metadata": {},
   "outputs": [
    {
     "data": {
      "text/html": [
       "<div>\n",
       "<style scoped>\n",
       "    .dataframe tbody tr th:only-of-type {\n",
       "        vertical-align: middle;\n",
       "    }\n",
       "\n",
       "    .dataframe tbody tr th {\n",
       "        vertical-align: top;\n",
       "    }\n",
       "\n",
       "    .dataframe thead th {\n",
       "        text-align: right;\n",
       "    }\n",
       "</style>\n",
       "<table border=\"1\" class=\"dataframe\">\n",
       "  <thead>\n",
       "    <tr style=\"text-align: right;\">\n",
       "      <th></th>\n",
       "      <th>brand</th>\n",
       "      <th>link</th>\n",
       "    </tr>\n",
       "  </thead>\n",
       "  <tbody>\n",
       "    <tr>\n",
       "      <th>0</th>\n",
       "      <td>Acer100 devices</td>\n",
       "      <td>acer-phones-59.php</td>\n",
       "    </tr>\n",
       "    <tr>\n",
       "      <th>1</th>\n",
       "      <td>Allview157 devices</td>\n",
       "      <td>allview-phones-88.php</td>\n",
       "    </tr>\n",
       "    <tr>\n",
       "      <th>2</th>\n",
       "      <td>Amoi47 devices</td>\n",
       "      <td>amoi-phones-28.php</td>\n",
       "    </tr>\n",
       "    <tr>\n",
       "      <th>3</th>\n",
       "      <td>Archos43 devices</td>\n",
       "      <td>archos-phones-90.php</td>\n",
       "    </tr>\n",
       "    <tr>\n",
       "      <th>4</th>\n",
       "      <td>AT&amp;T4 devices</td>\n",
       "      <td>at&amp;t-phones-57.php</td>\n",
       "    </tr>\n",
       "  </tbody>\n",
       "</table>\n",
       "</div>"
      ],
      "text/plain": [
       "                brand                   link\n",
       "0     Acer100 devices     acer-phones-59.php\n",
       "1  Allview157 devices  allview-phones-88.php\n",
       "2      Amoi47 devices     amoi-phones-28.php\n",
       "3    Archos43 devices   archos-phones-90.php\n",
       "4       AT&T4 devices     at&t-phones-57.php"
      ]
     },
     "execution_count": 9,
     "metadata": {},
     "output_type": "execute_result"
    }
   ],
   "source": [
    "df = pd.DataFrame(np.array(data), columns=[\"brand\", \"link\"])\n",
    "df.head()"
   ]
  },
  {
   "cell_type": "code",
   "execution_count": 10,
   "metadata": {},
   "outputs": [],
   "source": [
    "import re"
   ]
  },
  {
   "cell_type": "code",
   "execution_count": 11,
   "metadata": {},
   "outputs": [],
   "source": [
    "def get_brand(text):\n",
    "    text = re.sub(r\"\\d.*\", \"\", text)\n",
    "    return text"
   ]
  },
  {
   "cell_type": "code",
   "execution_count": 12,
   "metadata": {},
   "outputs": [
    {
     "data": {
      "text/html": [
       "<div>\n",
       "<style scoped>\n",
       "    .dataframe tbody tr th:only-of-type {\n",
       "        vertical-align: middle;\n",
       "    }\n",
       "\n",
       "    .dataframe tbody tr th {\n",
       "        vertical-align: top;\n",
       "    }\n",
       "\n",
       "    .dataframe thead th {\n",
       "        text-align: right;\n",
       "    }\n",
       "</style>\n",
       "<table border=\"1\" class=\"dataframe\">\n",
       "  <thead>\n",
       "    <tr style=\"text-align: right;\">\n",
       "      <th></th>\n",
       "      <th>brand</th>\n",
       "      <th>link</th>\n",
       "      <th>brand_name</th>\n",
       "    </tr>\n",
       "  </thead>\n",
       "  <tbody>\n",
       "    <tr>\n",
       "      <th>0</th>\n",
       "      <td>Acer100 devices</td>\n",
       "      <td>acer-phones-59.php</td>\n",
       "      <td>Acer</td>\n",
       "    </tr>\n",
       "    <tr>\n",
       "      <th>1</th>\n",
       "      <td>Allview157 devices</td>\n",
       "      <td>allview-phones-88.php</td>\n",
       "      <td>Allview</td>\n",
       "    </tr>\n",
       "    <tr>\n",
       "      <th>2</th>\n",
       "      <td>Amoi47 devices</td>\n",
       "      <td>amoi-phones-28.php</td>\n",
       "      <td>Amoi</td>\n",
       "    </tr>\n",
       "    <tr>\n",
       "      <th>3</th>\n",
       "      <td>Archos43 devices</td>\n",
       "      <td>archos-phones-90.php</td>\n",
       "      <td>Archos</td>\n",
       "    </tr>\n",
       "    <tr>\n",
       "      <th>4</th>\n",
       "      <td>AT&amp;T4 devices</td>\n",
       "      <td>at&amp;t-phones-57.php</td>\n",
       "      <td>AT&amp;T</td>\n",
       "    </tr>\n",
       "  </tbody>\n",
       "</table>\n",
       "</div>"
      ],
      "text/plain": [
       "                brand                   link brand_name\n",
       "0     Acer100 devices     acer-phones-59.php       Acer\n",
       "1  Allview157 devices  allview-phones-88.php    Allview\n",
       "2      Amoi47 devices     amoi-phones-28.php       Amoi\n",
       "3    Archos43 devices   archos-phones-90.php     Archos\n",
       "4       AT&T4 devices     at&t-phones-57.php       AT&T"
      ]
     },
     "execution_count": 12,
     "metadata": {},
     "output_type": "execute_result"
    }
   ],
   "source": [
    "df[\"brand_name\"] = df[\"brand\"].apply(lambda x: get_brand(x))\n",
    "df.head()"
   ]
  },
  {
   "cell_type": "code",
   "execution_count": 13,
   "metadata": {},
   "outputs": [],
   "source": [
    "def get_devices(text):\n",
    "    devices = re.findall(r\"\\d+\", text)\n",
    "    return devices[0]"
   ]
  },
  {
   "cell_type": "code",
   "execution_count": 14,
   "metadata": {},
   "outputs": [
    {
     "data": {
      "text/html": [
       "<div>\n",
       "<style scoped>\n",
       "    .dataframe tbody tr th:only-of-type {\n",
       "        vertical-align: middle;\n",
       "    }\n",
       "\n",
       "    .dataframe tbody tr th {\n",
       "        vertical-align: top;\n",
       "    }\n",
       "\n",
       "    .dataframe thead th {\n",
       "        text-align: right;\n",
       "    }\n",
       "</style>\n",
       "<table border=\"1\" class=\"dataframe\">\n",
       "  <thead>\n",
       "    <tr style=\"text-align: right;\">\n",
       "      <th></th>\n",
       "      <th>brand</th>\n",
       "      <th>link</th>\n",
       "      <th>brand_name</th>\n",
       "      <th>devices</th>\n",
       "    </tr>\n",
       "  </thead>\n",
       "  <tbody>\n",
       "    <tr>\n",
       "      <th>0</th>\n",
       "      <td>Acer100 devices</td>\n",
       "      <td>acer-phones-59.php</td>\n",
       "      <td>Acer</td>\n",
       "      <td>100</td>\n",
       "    </tr>\n",
       "    <tr>\n",
       "      <th>1</th>\n",
       "      <td>Allview157 devices</td>\n",
       "      <td>allview-phones-88.php</td>\n",
       "      <td>Allview</td>\n",
       "      <td>157</td>\n",
       "    </tr>\n",
       "    <tr>\n",
       "      <th>2</th>\n",
       "      <td>Amoi47 devices</td>\n",
       "      <td>amoi-phones-28.php</td>\n",
       "      <td>Amoi</td>\n",
       "      <td>47</td>\n",
       "    </tr>\n",
       "    <tr>\n",
       "      <th>3</th>\n",
       "      <td>Archos43 devices</td>\n",
       "      <td>archos-phones-90.php</td>\n",
       "      <td>Archos</td>\n",
       "      <td>43</td>\n",
       "    </tr>\n",
       "    <tr>\n",
       "      <th>4</th>\n",
       "      <td>AT&amp;T4 devices</td>\n",
       "      <td>at&amp;t-phones-57.php</td>\n",
       "      <td>AT&amp;T</td>\n",
       "      <td>4</td>\n",
       "    </tr>\n",
       "  </tbody>\n",
       "</table>\n",
       "</div>"
      ],
      "text/plain": [
       "                brand                   link brand_name devices\n",
       "0     Acer100 devices     acer-phones-59.php       Acer     100\n",
       "1  Allview157 devices  allview-phones-88.php    Allview     157\n",
       "2      Amoi47 devices     amoi-phones-28.php       Amoi      47\n",
       "3    Archos43 devices   archos-phones-90.php     Archos      43\n",
       "4       AT&T4 devices     at&t-phones-57.php       AT&T       4"
      ]
     },
     "execution_count": 14,
     "metadata": {},
     "output_type": "execute_result"
    }
   ],
   "source": [
    "df[\"devices\"] = df[\"brand\"].apply(lambda x: get_devices(x))\n",
    "df.head()"
   ]
  },
  {
   "cell_type": "code",
   "execution_count": 15,
   "metadata": {},
   "outputs": [
    {
     "data": {
      "text/html": [
       "<div>\n",
       "<style scoped>\n",
       "    .dataframe tbody tr th:only-of-type {\n",
       "        vertical-align: middle;\n",
       "    }\n",
       "\n",
       "    .dataframe tbody tr th {\n",
       "        vertical-align: top;\n",
       "    }\n",
       "\n",
       "    .dataframe thead th {\n",
       "        text-align: right;\n",
       "    }\n",
       "</style>\n",
       "<table border=\"1\" class=\"dataframe\">\n",
       "  <thead>\n",
       "    <tr style=\"text-align: right;\">\n",
       "      <th></th>\n",
       "      <th>brand</th>\n",
       "      <th>devices</th>\n",
       "      <th>link</th>\n",
       "    </tr>\n",
       "  </thead>\n",
       "  <tbody>\n",
       "    <tr>\n",
       "      <th>0</th>\n",
       "      <td>Acer</td>\n",
       "      <td>100</td>\n",
       "      <td>acer-phones-59.php</td>\n",
       "    </tr>\n",
       "    <tr>\n",
       "      <th>1</th>\n",
       "      <td>Allview</td>\n",
       "      <td>157</td>\n",
       "      <td>allview-phones-88.php</td>\n",
       "    </tr>\n",
       "    <tr>\n",
       "      <th>2</th>\n",
       "      <td>Amoi</td>\n",
       "      <td>47</td>\n",
       "      <td>amoi-phones-28.php</td>\n",
       "    </tr>\n",
       "    <tr>\n",
       "      <th>3</th>\n",
       "      <td>Archos</td>\n",
       "      <td>43</td>\n",
       "      <td>archos-phones-90.php</td>\n",
       "    </tr>\n",
       "    <tr>\n",
       "      <th>4</th>\n",
       "      <td>AT&amp;T</td>\n",
       "      <td>4</td>\n",
       "      <td>at&amp;t-phones-57.php</td>\n",
       "    </tr>\n",
       "  </tbody>\n",
       "</table>\n",
       "</div>"
      ],
      "text/plain": [
       "     brand devices                   link\n",
       "0     Acer     100     acer-phones-59.php\n",
       "1  Allview     157  allview-phones-88.php\n",
       "2     Amoi      47     amoi-phones-28.php\n",
       "3   Archos      43   archos-phones-90.php\n",
       "4     AT&T       4     at&t-phones-57.php"
      ]
     },
     "execution_count": 15,
     "metadata": {},
     "output_type": "execute_result"
    }
   ],
   "source": [
    "df = df[[\"brand_name\", \"devices\", \"link\"]]\n",
    "df.rename(columns={\"brand_name\": \"brand\"}, inplace=True)\n",
    "df.head()"
   ]
  },
  {
   "cell_type": "code",
   "execution_count": 16,
   "metadata": {},
   "outputs": [],
   "source": [
    "df[\"brand\"] = df[\"brand\"].astype(\"str\").str.lower()"
   ]
  },
  {
   "cell_type": "code",
   "execution_count": 17,
   "metadata": {},
   "outputs": [],
   "source": [
    "df.to_csv(\"./data/gsmarena_brand_link.csv\", index=False)"
   ]
  },
  {
   "cell_type": "code",
   "execution_count": 18,
   "metadata": {},
   "outputs": [
    {
     "data": {
      "text/html": [
       "<div>\n",
       "<style scoped>\n",
       "    .dataframe tbody tr th:only-of-type {\n",
       "        vertical-align: middle;\n",
       "    }\n",
       "\n",
       "    .dataframe tbody tr th {\n",
       "        vertical-align: top;\n",
       "    }\n",
       "\n",
       "    .dataframe thead th {\n",
       "        text-align: right;\n",
       "    }\n",
       "</style>\n",
       "<table border=\"1\" class=\"dataframe\">\n",
       "  <thead>\n",
       "    <tr style=\"text-align: right;\">\n",
       "      <th></th>\n",
       "      <th>brand</th>\n",
       "      <th>devices</th>\n",
       "      <th>link</th>\n",
       "    </tr>\n",
       "  </thead>\n",
       "  <tbody>\n",
       "    <tr>\n",
       "      <th>0</th>\n",
       "      <td>acer</td>\n",
       "      <td>100</td>\n",
       "      <td>acer-phones-59.php</td>\n",
       "    </tr>\n",
       "    <tr>\n",
       "      <th>1</th>\n",
       "      <td>allview</td>\n",
       "      <td>157</td>\n",
       "      <td>allview-phones-88.php</td>\n",
       "    </tr>\n",
       "    <tr>\n",
       "      <th>2</th>\n",
       "      <td>amoi</td>\n",
       "      <td>47</td>\n",
       "      <td>amoi-phones-28.php</td>\n",
       "    </tr>\n",
       "    <tr>\n",
       "      <th>3</th>\n",
       "      <td>archos</td>\n",
       "      <td>43</td>\n",
       "      <td>archos-phones-90.php</td>\n",
       "    </tr>\n",
       "    <tr>\n",
       "      <th>4</th>\n",
       "      <td>at&amp;t</td>\n",
       "      <td>4</td>\n",
       "      <td>at&amp;t-phones-57.php</td>\n",
       "    </tr>\n",
       "    <tr>\n",
       "      <th>...</th>\n",
       "      <td>...</td>\n",
       "      <td>...</td>\n",
       "      <td>...</td>\n",
       "    </tr>\n",
       "    <tr>\n",
       "      <th>56</th>\n",
       "      <td>vodafone</td>\n",
       "      <td>87</td>\n",
       "      <td>vodafone-phones-53.php</td>\n",
       "    </tr>\n",
       "    <tr>\n",
       "      <th>57</th>\n",
       "      <td>wnd</td>\n",
       "      <td>5</td>\n",
       "      <td>wnd-phones-51.php</td>\n",
       "    </tr>\n",
       "    <tr>\n",
       "      <th>58</th>\n",
       "      <td>xiaomi</td>\n",
       "      <td>364</td>\n",
       "      <td>xiaomi-phones-80.php</td>\n",
       "    </tr>\n",
       "    <tr>\n",
       "      <th>59</th>\n",
       "      <td>yezz</td>\n",
       "      <td>113</td>\n",
       "      <td>yezz-phones-78.php</td>\n",
       "    </tr>\n",
       "    <tr>\n",
       "      <th>60</th>\n",
       "      <td>yu</td>\n",
       "      <td>13</td>\n",
       "      <td>yu-phones-100.php</td>\n",
       "    </tr>\n",
       "  </tbody>\n",
       "</table>\n",
       "<p>61 rows × 3 columns</p>\n",
       "</div>"
      ],
      "text/plain": [
       "       brand  devices                    link\n",
       "0       acer      100      acer-phones-59.php\n",
       "1    allview      157   allview-phones-88.php\n",
       "2       amoi       47      amoi-phones-28.php\n",
       "3     archos       43    archos-phones-90.php\n",
       "4       at&t        4      at&t-phones-57.php\n",
       "..       ...      ...                     ...\n",
       "56  vodafone       87  vodafone-phones-53.php\n",
       "57       wnd        5       wnd-phones-51.php\n",
       "58    xiaomi      364    xiaomi-phones-80.php\n",
       "59      yezz      113      yezz-phones-78.php\n",
       "60        yu       13       yu-phones-100.php\n",
       "\n",
       "[61 rows x 3 columns]"
      ]
     },
     "execution_count": 18,
     "metadata": {},
     "output_type": "execute_result"
    }
   ],
   "source": [
    "df = pd.read_csv(\"./data/gsmarena_brand_link.csv\")\n",
    "df"
   ]
  },
  {
   "cell_type": "code",
   "execution_count": 19,
   "metadata": {},
   "outputs": [],
   "source": [
    "response = requests.get(\n",
    "    \"https://www.gsmarena.com/apple-phones-f-48-0-p1.php\", headers=headers\n",
    ")\n",
    "\n",
    "soup = BeautifulSoup(response.content, \"html.parser\")"
   ]
  },
  {
   "cell_type": "code",
   "execution_count": 20,
   "metadata": {},
   "outputs": [
    {
     "data": {
      "text/plain": [
       "40"
      ]
     },
     "execution_count": 20,
     "metadata": {},
     "output_type": "execute_result"
    }
   ],
   "source": [
    "names = soup.select(\"div.makers ul li\")\n",
    "len(names)"
   ]
  },
  {
   "cell_type": "code",
   "execution_count": 21,
   "metadata": {},
   "outputs": [
    {
     "name": "stdout",
     "output_type": "stream",
     "text": [
      "iPhone 15 Pro Max apple_iphone_15_pro_max-12548.php\n",
      "iPhone 15 Pro apple_iphone_15_pro-12557.php\n",
      "iPhone 15 Plus apple_iphone_15_plus-12558.php\n",
      "iPhone 15 apple_iphone_15-12559.php\n",
      "Watch Ultra 2 apple_watch_ultra_2-12560.php\n",
      "Watch Series 9 apple_watch_series_9-12561.php\n",
      "Watch Series 9 Aluminum apple_watch_series_9_aluminum-12562.php\n",
      "iPad Pro 12.9 (2022) apple_ipad_pro_12_9_(2022)-11939.php\n",
      "iPad Pro 11 (2022) apple_ipad_pro_11_(2022)-11940.php\n",
      "iPad (2022) apple_ipad_(2022)-11941.php\n",
      "iPhone 14 Pro Max apple_iphone_14_pro_max-11773.php\n",
      "iPhone 14 Pro apple_iphone_14_pro-11860.php\n",
      "iPhone 14 Plus apple_iphone_14_plus-11862.php\n",
      "iPhone 14 apple_iphone_14-11861.php\n",
      "Watch Ultra apple_watch_ultra-11827.php\n",
      "Watch Series 8 apple_watch_series_8-11866.php\n",
      "Watch Series 8 Aluminum apple_watch_series_8_aluminum-11864.php\n",
      "Watch SE (2022) apple_watch_se_(2022)-11865.php\n",
      "iPhone SE (2022) apple_iphone_se_(2022)-11410.php\n",
      "iPad Air (2022) apple_ipad_air_(2022)-11411.php\n",
      "iPhone 13 Pro Max apple_iphone_13_pro_max-11089.php\n",
      "iPhone 13 Pro apple_iphone_13_pro-11102.php\n",
      "iPhone 13 apple_iphone_13-11103.php\n",
      "iPhone 13 mini apple_iphone_13_mini-11104.php\n",
      "iPad mini (2021) apple_ipad_mini_(2021)-11105.php\n",
      "iPad 10.2 (2021) apple_ipad_10_2_(2021)-11106.php\n",
      "Watch Edition Series 7 apple_watch_edition_series_7-11147.php\n",
      "Watch Series 7 apple_watch_series_7-11146.php\n",
      "Watch Series 7 Aluminum apple_watch_series_7_aluminum-11107.php\n",
      "iPad Pro 12.9 (2021) apple_ipad_pro_12_9_(2021)-10864.php\n",
      "iPad Pro 11 (2021) apple_ipad_pro_11_(2021)-10865.php\n",
      "iPhone 12 Pro Max apple_iphone_12_pro_max-10237.php\n",
      "iPhone 12 Pro apple_iphone_12_pro-10508.php\n",
      "iPhone 12 apple_iphone_12-10509.php\n",
      "iPhone 12 mini apple_iphone_12_mini-10510.php\n",
      "iPad Air (2020) apple_ipad_air_(2020)-10444.php\n",
      "iPad 10.2 (2020) apple_ipad_10_2_(2020)-10445.php\n",
      "Watch SE apple_watch_se-10446.php\n",
      "Watch Series 6 Aluminum apple_watch_series_6_aluminum-10447.php\n",
      "Watch Series 6 apple_watch_series_6-10448.php\n"
     ]
    }
   ],
   "source": [
    "for name in names:\n",
    "    l = name.find(\"a\").get(\"href\")\n",
    "    n = name.find(\"span\").get_text()\n",
    "    print(n, l)"
   ]
  },
  {
   "cell_type": "code",
   "execution_count": 22,
   "metadata": {},
   "outputs": [
    {
     "data": {
      "text/plain": [
       "'acer-phones-59.php'"
      ]
     },
     "execution_count": 22,
     "metadata": {},
     "output_type": "execute_result"
    }
   ],
   "source": [
    "df[\"link\"][0]"
   ]
  },
  {
   "cell_type": "code",
   "execution_count": 23,
   "metadata": {},
   "outputs": [],
   "source": [
    "def get_code(text):\n",
    "    code = re.findall(r\"\\d+\", text)\n",
    "    return code[0]"
   ]
  },
  {
   "cell_type": "code",
   "execution_count": 24,
   "metadata": {},
   "outputs": [
    {
     "data": {
      "text/html": [
       "<div>\n",
       "<style scoped>\n",
       "    .dataframe tbody tr th:only-of-type {\n",
       "        vertical-align: middle;\n",
       "    }\n",
       "\n",
       "    .dataframe tbody tr th {\n",
       "        vertical-align: top;\n",
       "    }\n",
       "\n",
       "    .dataframe thead th {\n",
       "        text-align: right;\n",
       "    }\n",
       "</style>\n",
       "<table border=\"1\" class=\"dataframe\">\n",
       "  <thead>\n",
       "    <tr style=\"text-align: right;\">\n",
       "      <th></th>\n",
       "      <th>brand</th>\n",
       "      <th>devices</th>\n",
       "      <th>link</th>\n",
       "      <th>code</th>\n",
       "    </tr>\n",
       "  </thead>\n",
       "  <tbody>\n",
       "    <tr>\n",
       "      <th>0</th>\n",
       "      <td>acer</td>\n",
       "      <td>100</td>\n",
       "      <td>acer-phones-59.php</td>\n",
       "      <td>59</td>\n",
       "    </tr>\n",
       "    <tr>\n",
       "      <th>1</th>\n",
       "      <td>allview</td>\n",
       "      <td>157</td>\n",
       "      <td>allview-phones-88.php</td>\n",
       "      <td>88</td>\n",
       "    </tr>\n",
       "    <tr>\n",
       "      <th>2</th>\n",
       "      <td>amoi</td>\n",
       "      <td>47</td>\n",
       "      <td>amoi-phones-28.php</td>\n",
       "      <td>28</td>\n",
       "    </tr>\n",
       "    <tr>\n",
       "      <th>3</th>\n",
       "      <td>archos</td>\n",
       "      <td>43</td>\n",
       "      <td>archos-phones-90.php</td>\n",
       "      <td>90</td>\n",
       "    </tr>\n",
       "    <tr>\n",
       "      <th>4</th>\n",
       "      <td>at&amp;t</td>\n",
       "      <td>4</td>\n",
       "      <td>at&amp;t-phones-57.php</td>\n",
       "      <td>57</td>\n",
       "    </tr>\n",
       "  </tbody>\n",
       "</table>\n",
       "</div>"
      ],
      "text/plain": [
       "     brand  devices                   link code\n",
       "0     acer      100     acer-phones-59.php   59\n",
       "1  allview      157  allview-phones-88.php   88\n",
       "2     amoi       47     amoi-phones-28.php   28\n",
       "3   archos       43   archos-phones-90.php   90\n",
       "4     at&t        4     at&t-phones-57.php   57"
      ]
     },
     "execution_count": 24,
     "metadata": {},
     "output_type": "execute_result"
    }
   ],
   "source": [
    "df[\"code\"] = df[\"link\"].apply(lambda x: get_code(x))\n",
    "df.head()"
   ]
  },
  {
   "cell_type": "code",
   "execution_count": 25,
   "metadata": {},
   "outputs": [
    {
     "data": {
      "text/plain": [
       "array(['acer', 'allview', 'amoi', 'archos', 'at&t', 'benq', 'bird',\n",
       "       'blackview', 'bosch', 'casio', 'celkon', 'coolpad', 'dell',\n",
       "       'emporia', 'ericsson', 'fairphone', 'garmin-asus', 'gionee',\n",
       "       'haier', 'hp', 'huawei', 'i-mobile', 'infinix', 'inq', 'itel',\n",
       "       'karbonn', 'lava', 'lenovo', 'maxon', 'meizu', 'microsoft',\n",
       "       'mitsubishi', 'motorola', 'nec', 'niu', 'nothing', 'o', 'oppo',\n",
       "       'oukitel', 'panasonic', 'parla', 'plum', 'prestigio', 'qtek',\n",
       "       'realme', 'samsung', 'sewon', 'siemens', 'sony', 'spice', 'tcl',\n",
       "       'tel.me.', 'thuraya', 'ulefone', 'vertu', 'vivo', 'vodafone',\n",
       "       'wnd', 'xiaomi', 'yezz', 'yu'], dtype=object)"
      ]
     },
     "execution_count": 25,
     "metadata": {},
     "output_type": "execute_result"
    }
   ],
   "source": [
    "df.brand.unique()"
   ]
  },
  {
   "cell_type": "code",
   "execution_count": 26,
   "metadata": {},
   "outputs": [
    {
     "data": {
      "text/plain": [
       "array(['huawei', 'infinix', 'lava', 'motorola', 'nothing', 'oppo',\n",
       "       'realme', 'samsung', 'vivo', 'xiaomi'], dtype=object)"
      ]
     },
     "execution_count": 26,
     "metadata": {},
     "output_type": "execute_result"
    }
   ],
   "source": [
    "df = df[\n",
    "    df[\"brand\"].isin(\n",
    "        [\n",
    "            \"huawei\",\n",
    "            \"infinix\",\n",
    "            \"lava\",\n",
    "            \"motorola\",\n",
    "            \"nothing\",\n",
    "            \"oppo\",\n",
    "            \"realme\",\n",
    "            \"samsung\",\n",
    "            \"vivo\",\n",
    "            \"xiaomi\",\n",
    "        ]\n",
    "    )\n",
    "]\n",
    "\n",
    "df[\"brand\"].unique()"
   ]
  },
  {
   "cell_type": "code",
   "execution_count": 27,
   "metadata": {},
   "outputs": [],
   "source": [
    "df.reset_index(inplace=True)"
   ]
  },
  {
   "cell_type": "code",
   "execution_count": 29,
   "metadata": {},
   "outputs": [
    {
     "name": "stdout",
     "output_type": "stream",
     "text": [
      "huawei-phones-58.php\n",
      "58\n",
      "huawei\n"
     ]
    }
   ],
   "source": [
    "print(df[\"link\"][0])\n",
    "print(df[\"code\"][0])\n",
    "print(df[\"brand\"][0])"
   ]
  },
  {
   "cell_type": "code",
   "execution_count": 30,
   "metadata": {},
   "outputs": [
    {
     "data": {
      "text/plain": [
       "'huawei-phones-58.php'"
      ]
     },
     "execution_count": 30,
     "metadata": {},
     "output_type": "execute_result"
    }
   ],
   "source": [
    "link = df[\"link\"][0]\n",
    "link"
   ]
  },
  {
   "cell_type": "code",
   "execution_count": 31,
   "metadata": {},
   "outputs": [],
   "source": [
    "l = list(link.split(\"-\"))"
   ]
  },
  {
   "cell_type": "code",
   "execution_count": 32,
   "metadata": {},
   "outputs": [
    {
     "data": {
      "text/plain": [
       "'58.php'"
      ]
     },
     "execution_count": 32,
     "metadata": {},
     "output_type": "execute_result"
    }
   ],
   "source": [
    "l.pop()"
   ]
  },
  {
   "cell_type": "code",
   "execution_count": 33,
   "metadata": {},
   "outputs": [],
   "source": [
    "l.insert(1, \"-\")\n",
    "l.append(\"-f-\")\n",
    "l.append(\"{}\")\n",
    "l.append(\"-0-p{}.php\")"
   ]
  },
  {
   "cell_type": "code",
   "execution_count": 34,
   "metadata": {},
   "outputs": [
    {
     "data": {
      "text/plain": [
       "'huawei-phones-f-{}-0-p{}.php'"
      ]
     },
     "execution_count": 34,
     "metadata": {},
     "output_type": "execute_result"
    }
   ],
   "source": [
    "\"\".join(l)"
   ]
  },
  {
   "cell_type": "code",
   "execution_count": 35,
   "metadata": {},
   "outputs": [
    {
     "name": "stderr",
     "output_type": "stream",
     "text": [
      "C:\\Users\\rushi\\AppData\\Local\\Temp\\ipykernel_204\\129909629.py:1: SettingWithCopyWarning: \n",
      "A value is trying to be set on a copy of a slice from a DataFrame.\n",
      "Try using .loc[row_indexer,col_indexer] = value instead\n",
      "\n",
      "See the caveats in the documentation: https://pandas.pydata.org/pandas-docs/stable/user_guide/indexing.html#returning-a-view-versus-a-copy\n",
      "  df['devices'] = df['devices'].astype('int32')\n"
     ]
    }
   ],
   "source": [
    "df[\"devices\"] = df[\"devices\"].astype(\"int32\")"
   ]
  },
  {
   "cell_type": "code",
   "execution_count": 36,
   "metadata": {},
   "outputs": [
    {
     "data": {
      "text/html": [
       "<div>\n",
       "<style scoped>\n",
       "    .dataframe tbody tr th:only-of-type {\n",
       "        vertical-align: middle;\n",
       "    }\n",
       "\n",
       "    .dataframe tbody tr th {\n",
       "        vertical-align: top;\n",
       "    }\n",
       "\n",
       "    .dataframe thead th {\n",
       "        text-align: right;\n",
       "    }\n",
       "</style>\n",
       "<table border=\"1\" class=\"dataframe\">\n",
       "  <thead>\n",
       "    <tr style=\"text-align: right;\">\n",
       "      <th></th>\n",
       "      <th>index</th>\n",
       "      <th>brand</th>\n",
       "      <th>devices</th>\n",
       "      <th>link</th>\n",
       "      <th>code</th>\n",
       "    </tr>\n",
       "  </thead>\n",
       "  <tbody>\n",
       "    <tr>\n",
       "      <th>0</th>\n",
       "      <td>20</td>\n",
       "      <td>huawei</td>\n",
       "      <td>436</td>\n",
       "      <td>huawei-phones-58.php</td>\n",
       "      <td>58</td>\n",
       "    </tr>\n",
       "    <tr>\n",
       "      <th>1</th>\n",
       "      <td>22</td>\n",
       "      <td>infinix</td>\n",
       "      <td>118</td>\n",
       "      <td>infinix-phones-119.php</td>\n",
       "      <td>119</td>\n",
       "    </tr>\n",
       "    <tr>\n",
       "      <th>2</th>\n",
       "      <td>26</td>\n",
       "      <td>lava</td>\n",
       "      <td>141</td>\n",
       "      <td>lava-phones-94.php</td>\n",
       "      <td>94</td>\n",
       "    </tr>\n",
       "    <tr>\n",
       "      <th>3</th>\n",
       "      <td>32</td>\n",
       "      <td>motorola</td>\n",
       "      <td>603</td>\n",
       "      <td>motorola-phones-4.php</td>\n",
       "      <td>4</td>\n",
       "    </tr>\n",
       "    <tr>\n",
       "      <th>5</th>\n",
       "      <td>37</td>\n",
       "      <td>oppo</td>\n",
       "      <td>288</td>\n",
       "      <td>oppo-phones-82.php</td>\n",
       "      <td>82</td>\n",
       "    </tr>\n",
       "    <tr>\n",
       "      <th>6</th>\n",
       "      <td>44</td>\n",
       "      <td>realme</td>\n",
       "      <td>179</td>\n",
       "      <td>realme-phones-118.php</td>\n",
       "      <td>118</td>\n",
       "    </tr>\n",
       "    <tr>\n",
       "      <th>7</th>\n",
       "      <td>45</td>\n",
       "      <td>samsung</td>\n",
       "      <td>1377</td>\n",
       "      <td>samsung-phones-9.php</td>\n",
       "      <td>9</td>\n",
       "    </tr>\n",
       "    <tr>\n",
       "      <th>8</th>\n",
       "      <td>55</td>\n",
       "      <td>vivo</td>\n",
       "      <td>401</td>\n",
       "      <td>vivo-phones-98.php</td>\n",
       "      <td>98</td>\n",
       "    </tr>\n",
       "    <tr>\n",
       "      <th>9</th>\n",
       "      <td>58</td>\n",
       "      <td>xiaomi</td>\n",
       "      <td>364</td>\n",
       "      <td>xiaomi-phones-80.php</td>\n",
       "      <td>80</td>\n",
       "    </tr>\n",
       "  </tbody>\n",
       "</table>\n",
       "</div>"
      ],
      "text/plain": [
       "   index     brand  devices                    link code\n",
       "0     20    huawei      436    huawei-phones-58.php   58\n",
       "1     22   infinix      118  infinix-phones-119.php  119\n",
       "2     26      lava      141      lava-phones-94.php   94\n",
       "3     32  motorola      603   motorola-phones-4.php    4\n",
       "5     37      oppo      288      oppo-phones-82.php   82\n",
       "6     44    realme      179   realme-phones-118.php  118\n",
       "7     45   samsung     1377    samsung-phones-9.php    9\n",
       "8     55      vivo      401      vivo-phones-98.php   98\n",
       "9     58    xiaomi      364    xiaomi-phones-80.php   80"
      ]
     },
     "execution_count": 36,
     "metadata": {},
     "output_type": "execute_result"
    }
   ],
   "source": [
    "df[(df[\"devices\"] > 50)]"
   ]
  },
  {
   "cell_type": "code",
   "execution_count": 37,
   "metadata": {},
   "outputs": [
    {
     "name": "stderr",
     "output_type": "stream",
     "text": [
      "C:\\Users\\rushi\\AppData\\Local\\Temp\\ipykernel_204\\1476654431.py:1: SettingWithCopyWarning: \n",
      "A value is trying to be set on a copy of a slice from a DataFrame\n",
      "\n",
      "See the caveats in the documentation: https://pandas.pydata.org/pandas-docs/stable/user_guide/indexing.html#returning-a-view-versus-a-copy\n",
      "  df.drop('index', axis=1, inplace=True)\n"
     ]
    },
    {
     "data": {
      "text/html": [
       "<div>\n",
       "<style scoped>\n",
       "    .dataframe tbody tr th:only-of-type {\n",
       "        vertical-align: middle;\n",
       "    }\n",
       "\n",
       "    .dataframe tbody tr th {\n",
       "        vertical-align: top;\n",
       "    }\n",
       "\n",
       "    .dataframe thead th {\n",
       "        text-align: right;\n",
       "    }\n",
       "</style>\n",
       "<table border=\"1\" class=\"dataframe\">\n",
       "  <thead>\n",
       "    <tr style=\"text-align: right;\">\n",
       "      <th></th>\n",
       "      <th>brand</th>\n",
       "      <th>devices</th>\n",
       "      <th>link</th>\n",
       "      <th>code</th>\n",
       "    </tr>\n",
       "  </thead>\n",
       "  <tbody>\n",
       "    <tr>\n",
       "      <th>0</th>\n",
       "      <td>huawei</td>\n",
       "      <td>436</td>\n",
       "      <td>huawei-phones-58.php</td>\n",
       "      <td>58</td>\n",
       "    </tr>\n",
       "    <tr>\n",
       "      <th>1</th>\n",
       "      <td>infinix</td>\n",
       "      <td>118</td>\n",
       "      <td>infinix-phones-119.php</td>\n",
       "      <td>119</td>\n",
       "    </tr>\n",
       "    <tr>\n",
       "      <th>2</th>\n",
       "      <td>lava</td>\n",
       "      <td>141</td>\n",
       "      <td>lava-phones-94.php</td>\n",
       "      <td>94</td>\n",
       "    </tr>\n",
       "    <tr>\n",
       "      <th>3</th>\n",
       "      <td>motorola</td>\n",
       "      <td>603</td>\n",
       "      <td>motorola-phones-4.php</td>\n",
       "      <td>4</td>\n",
       "    </tr>\n",
       "    <tr>\n",
       "      <th>4</th>\n",
       "      <td>nothing</td>\n",
       "      <td>2</td>\n",
       "      <td>nothing-phones-128.php</td>\n",
       "      <td>128</td>\n",
       "    </tr>\n",
       "  </tbody>\n",
       "</table>\n",
       "</div>"
      ],
      "text/plain": [
       "      brand  devices                    link code\n",
       "0    huawei      436    huawei-phones-58.php   58\n",
       "1   infinix      118  infinix-phones-119.php  119\n",
       "2      lava      141      lava-phones-94.php   94\n",
       "3  motorola      603   motorola-phones-4.php    4\n",
       "4   nothing        2  nothing-phones-128.php  128"
      ]
     },
     "execution_count": 37,
     "metadata": {},
     "output_type": "execute_result"
    }
   ],
   "source": [
    "df.drop(\"index\", axis=1, inplace=True)\n",
    "df.head()"
   ]
  },
  {
   "cell_type": "code",
   "execution_count": 38,
   "metadata": {},
   "outputs": [
    {
     "name": "stderr",
     "output_type": "stream",
     "text": [
      "C:\\Users\\rushi\\AppData\\Local\\Temp\\ipykernel_204\\3573615489.py:1: SettingWithCopyWarning: \n",
      "A value is trying to be set on a copy of a slice from a DataFrame.\n",
      "Try using .loc[row_indexer,col_indexer] = value instead\n",
      "\n",
      "See the caveats in the documentation: https://pandas.pydata.org/pandas-docs/stable/user_guide/indexing.html#returning-a-view-versus-a-copy\n",
      "  df['pages'] = np.int32(round(df['devices']/40, 0))\n"
     ]
    },
    {
     "data": {
      "text/html": [
       "<div>\n",
       "<style scoped>\n",
       "    .dataframe tbody tr th:only-of-type {\n",
       "        vertical-align: middle;\n",
       "    }\n",
       "\n",
       "    .dataframe tbody tr th {\n",
       "        vertical-align: top;\n",
       "    }\n",
       "\n",
       "    .dataframe thead th {\n",
       "        text-align: right;\n",
       "    }\n",
       "</style>\n",
       "<table border=\"1\" class=\"dataframe\">\n",
       "  <thead>\n",
       "    <tr style=\"text-align: right;\">\n",
       "      <th></th>\n",
       "      <th>brand</th>\n",
       "      <th>devices</th>\n",
       "      <th>link</th>\n",
       "      <th>code</th>\n",
       "      <th>pages</th>\n",
       "    </tr>\n",
       "  </thead>\n",
       "  <tbody>\n",
       "    <tr>\n",
       "      <th>0</th>\n",
       "      <td>huawei</td>\n",
       "      <td>436</td>\n",
       "      <td>huawei-phones-58.php</td>\n",
       "      <td>58</td>\n",
       "      <td>11</td>\n",
       "    </tr>\n",
       "    <tr>\n",
       "      <th>1</th>\n",
       "      <td>infinix</td>\n",
       "      <td>118</td>\n",
       "      <td>infinix-phones-119.php</td>\n",
       "      <td>119</td>\n",
       "      <td>3</td>\n",
       "    </tr>\n",
       "    <tr>\n",
       "      <th>2</th>\n",
       "      <td>lava</td>\n",
       "      <td>141</td>\n",
       "      <td>lava-phones-94.php</td>\n",
       "      <td>94</td>\n",
       "      <td>4</td>\n",
       "    </tr>\n",
       "    <tr>\n",
       "      <th>3</th>\n",
       "      <td>motorola</td>\n",
       "      <td>603</td>\n",
       "      <td>motorola-phones-4.php</td>\n",
       "      <td>4</td>\n",
       "      <td>15</td>\n",
       "    </tr>\n",
       "    <tr>\n",
       "      <th>4</th>\n",
       "      <td>nothing</td>\n",
       "      <td>2</td>\n",
       "      <td>nothing-phones-128.php</td>\n",
       "      <td>128</td>\n",
       "      <td>0</td>\n",
       "    </tr>\n",
       "  </tbody>\n",
       "</table>\n",
       "</div>"
      ],
      "text/plain": [
       "      brand  devices                    link code  pages\n",
       "0    huawei      436    huawei-phones-58.php   58     11\n",
       "1   infinix      118  infinix-phones-119.php  119      3\n",
       "2      lava      141      lava-phones-94.php   94      4\n",
       "3  motorola      603   motorola-phones-4.php    4     15\n",
       "4   nothing        2  nothing-phones-128.php  128      0"
      ]
     },
     "execution_count": 38,
     "metadata": {},
     "output_type": "execute_result"
    }
   ],
   "source": [
    "df[\"pages\"] = np.int32(round(df[\"devices\"] / 40, 0))\n",
    "df.head()"
   ]
  },
  {
   "cell_type": "code",
   "execution_count": 39,
   "metadata": {},
   "outputs": [],
   "source": [
    "df.loc[df[\"brand\"] == \"nothing\", \"pages\"] = 1"
   ]
  },
  {
   "cell_type": "code",
   "execution_count": 40,
   "metadata": {},
   "outputs": [
    {
     "data": {
      "text/html": [
       "<div>\n",
       "<style scoped>\n",
       "    .dataframe tbody tr th:only-of-type {\n",
       "        vertical-align: middle;\n",
       "    }\n",
       "\n",
       "    .dataframe tbody tr th {\n",
       "        vertical-align: top;\n",
       "    }\n",
       "\n",
       "    .dataframe thead th {\n",
       "        text-align: right;\n",
       "    }\n",
       "</style>\n",
       "<table border=\"1\" class=\"dataframe\">\n",
       "  <thead>\n",
       "    <tr style=\"text-align: right;\">\n",
       "      <th></th>\n",
       "      <th>brand</th>\n",
       "      <th>devices</th>\n",
       "      <th>link</th>\n",
       "      <th>code</th>\n",
       "      <th>pages</th>\n",
       "    </tr>\n",
       "  </thead>\n",
       "  <tbody>\n",
       "    <tr>\n",
       "      <th>0</th>\n",
       "      <td>huawei</td>\n",
       "      <td>436</td>\n",
       "      <td>huawei-phones-58.php</td>\n",
       "      <td>58</td>\n",
       "      <td>11</td>\n",
       "    </tr>\n",
       "    <tr>\n",
       "      <th>1</th>\n",
       "      <td>infinix</td>\n",
       "      <td>118</td>\n",
       "      <td>infinix-phones-119.php</td>\n",
       "      <td>119</td>\n",
       "      <td>3</td>\n",
       "    </tr>\n",
       "    <tr>\n",
       "      <th>2</th>\n",
       "      <td>lava</td>\n",
       "      <td>141</td>\n",
       "      <td>lava-phones-94.php</td>\n",
       "      <td>94</td>\n",
       "      <td>4</td>\n",
       "    </tr>\n",
       "    <tr>\n",
       "      <th>3</th>\n",
       "      <td>motorola</td>\n",
       "      <td>603</td>\n",
       "      <td>motorola-phones-4.php</td>\n",
       "      <td>4</td>\n",
       "      <td>15</td>\n",
       "    </tr>\n",
       "    <tr>\n",
       "      <th>4</th>\n",
       "      <td>nothing</td>\n",
       "      <td>2</td>\n",
       "      <td>nothing-phones-128.php</td>\n",
       "      <td>128</td>\n",
       "      <td>1</td>\n",
       "    </tr>\n",
       "    <tr>\n",
       "      <th>5</th>\n",
       "      <td>oppo</td>\n",
       "      <td>288</td>\n",
       "      <td>oppo-phones-82.php</td>\n",
       "      <td>82</td>\n",
       "      <td>7</td>\n",
       "    </tr>\n",
       "    <tr>\n",
       "      <th>6</th>\n",
       "      <td>realme</td>\n",
       "      <td>179</td>\n",
       "      <td>realme-phones-118.php</td>\n",
       "      <td>118</td>\n",
       "      <td>4</td>\n",
       "    </tr>\n",
       "    <tr>\n",
       "      <th>7</th>\n",
       "      <td>samsung</td>\n",
       "      <td>1377</td>\n",
       "      <td>samsung-phones-9.php</td>\n",
       "      <td>9</td>\n",
       "      <td>34</td>\n",
       "    </tr>\n",
       "    <tr>\n",
       "      <th>8</th>\n",
       "      <td>vivo</td>\n",
       "      <td>401</td>\n",
       "      <td>vivo-phones-98.php</td>\n",
       "      <td>98</td>\n",
       "      <td>10</td>\n",
       "    </tr>\n",
       "    <tr>\n",
       "      <th>9</th>\n",
       "      <td>xiaomi</td>\n",
       "      <td>364</td>\n",
       "      <td>xiaomi-phones-80.php</td>\n",
       "      <td>80</td>\n",
       "      <td>9</td>\n",
       "    </tr>\n",
       "  </tbody>\n",
       "</table>\n",
       "</div>"
      ],
      "text/plain": [
       "      brand  devices                    link code  pages\n",
       "0    huawei      436    huawei-phones-58.php   58     11\n",
       "1   infinix      118  infinix-phones-119.php  119      3\n",
       "2      lava      141      lava-phones-94.php   94      4\n",
       "3  motorola      603   motorola-phones-4.php    4     15\n",
       "4   nothing        2  nothing-phones-128.php  128      1\n",
       "5      oppo      288      oppo-phones-82.php   82      7\n",
       "6    realme      179   realme-phones-118.php  118      4\n",
       "7   samsung     1377    samsung-phones-9.php    9     34\n",
       "8      vivo      401      vivo-phones-98.php   98     10\n",
       "9    xiaomi      364    xiaomi-phones-80.php   80      9"
      ]
     },
     "execution_count": 40,
     "metadata": {},
     "output_type": "execute_result"
    }
   ],
   "source": [
    "df"
   ]
  },
  {
   "cell_type": "code",
   "execution_count": 41,
   "metadata": {},
   "outputs": [],
   "source": [
    "data2 = []"
   ]
  },
  {
   "cell_type": "code",
   "execution_count": 42,
   "metadata": {},
   "outputs": [],
   "source": [
    "def gen_link(brand, devices, link, code, page):\n",
    "    prefix = \"https://www.gsmarena.com/\"\n",
    "    if page == 1:\n",
    "        l = prefix + link\n",
    "        data2.append((brand, devices, link, code, l))\n",
    "        print(brand, devices, link, code, l)\n",
    "    else:\n",
    "        l = list(link.split(\"-\"))\n",
    "        l.pop()\n",
    "\n",
    "\n",
    "        l.insert(1, \"-\")\n",
    "        l.append(\"-f-\")\n",
    "\n",
    "        l.append(\"{}\".format(code))\n",
    "\n",
    "        l.append(\"-0-p{}.php\".format(page))\n",
    "        l = \"\".join(l)\n",
    "        l = prefix + l\n",
    "        data2.append((brand, devices, link, code, l))\n",
    "        print(brand, devices, link, code, l)"
   ]
  },
  {
   "cell_type": "code",
   "execution_count": 43,
   "metadata": {},
   "outputs": [
    {
     "name": "stdout",
     "output_type": "stream",
     "text": [
      "huawei 436 huawei-phones-58.php 58 https://www.gsmarena.com/huawei-phones-58.php\n",
      "huawei 436 huawei-phones-58.php 58 https://www.gsmarena.com/huawei-phones-f-58-0-p2.php\n",
      "huawei 436 huawei-phones-58.php 58 https://www.gsmarena.com/huawei-phones-f-58-0-p3.php\n",
      "huawei 436 huawei-phones-58.php 58 https://www.gsmarena.com/huawei-phones-f-58-0-p4.php\n",
      "huawei 436 huawei-phones-58.php 58 https://www.gsmarena.com/huawei-phones-f-58-0-p5.php\n",
      "huawei 436 huawei-phones-58.php 58 https://www.gsmarena.com/huawei-phones-f-58-0-p6.php\n",
      "huawei 436 huawei-phones-58.php 58 https://www.gsmarena.com/huawei-phones-f-58-0-p7.php\n",
      "huawei 436 huawei-phones-58.php 58 https://www.gsmarena.com/huawei-phones-f-58-0-p8.php\n",
      "huawei 436 huawei-phones-58.php 58 https://www.gsmarena.com/huawei-phones-f-58-0-p9.php\n",
      "huawei 436 huawei-phones-58.php 58 https://www.gsmarena.com/huawei-phones-f-58-0-p10.php\n",
      "infinix 118 infinix-phones-119.php 119 https://www.gsmarena.com/infinix-phones-119.php\n",
      "infinix 118 infinix-phones-119.php 119 https://www.gsmarena.com/infinix-phones-f-119-0-p2.php\n",
      "lava 141 lava-phones-94.php 94 https://www.gsmarena.com/lava-phones-94.php\n",
      "lava 141 lava-phones-94.php 94 https://www.gsmarena.com/lava-phones-f-94-0-p2.php\n",
      "lava 141 lava-phones-94.php 94 https://www.gsmarena.com/lava-phones-f-94-0-p3.php\n",
      "motorola 603 motorola-phones-4.php 4 https://www.gsmarena.com/motorola-phones-4.php\n",
      "motorola 603 motorola-phones-4.php 4 https://www.gsmarena.com/motorola-phones-f-4-0-p2.php\n",
      "motorola 603 motorola-phones-4.php 4 https://www.gsmarena.com/motorola-phones-f-4-0-p3.php\n",
      "motorola 603 motorola-phones-4.php 4 https://www.gsmarena.com/motorola-phones-f-4-0-p4.php\n",
      "motorola 603 motorola-phones-4.php 4 https://www.gsmarena.com/motorola-phones-f-4-0-p5.php\n",
      "motorola 603 motorola-phones-4.php 4 https://www.gsmarena.com/motorola-phones-f-4-0-p6.php\n",
      "motorola 603 motorola-phones-4.php 4 https://www.gsmarena.com/motorola-phones-f-4-0-p7.php\n",
      "motorola 603 motorola-phones-4.php 4 https://www.gsmarena.com/motorola-phones-f-4-0-p8.php\n",
      "motorola 603 motorola-phones-4.php 4 https://www.gsmarena.com/motorola-phones-f-4-0-p9.php\n",
      "motorola 603 motorola-phones-4.php 4 https://www.gsmarena.com/motorola-phones-f-4-0-p10.php\n",
      "motorola 603 motorola-phones-4.php 4 https://www.gsmarena.com/motorola-phones-f-4-0-p11.php\n",
      "motorola 603 motorola-phones-4.php 4 https://www.gsmarena.com/motorola-phones-f-4-0-p12.php\n",
      "motorola 603 motorola-phones-4.php 4 https://www.gsmarena.com/motorola-phones-f-4-0-p13.php\n",
      "motorola 603 motorola-phones-4.php 4 https://www.gsmarena.com/motorola-phones-f-4-0-p14.php\n",
      "oppo 288 oppo-phones-82.php 82 https://www.gsmarena.com/oppo-phones-82.php\n",
      "oppo 288 oppo-phones-82.php 82 https://www.gsmarena.com/oppo-phones-f-82-0-p2.php\n",
      "oppo 288 oppo-phones-82.php 82 https://www.gsmarena.com/oppo-phones-f-82-0-p3.php\n",
      "oppo 288 oppo-phones-82.php 82 https://www.gsmarena.com/oppo-phones-f-82-0-p4.php\n",
      "oppo 288 oppo-phones-82.php 82 https://www.gsmarena.com/oppo-phones-f-82-0-p5.php\n",
      "oppo 288 oppo-phones-82.php 82 https://www.gsmarena.com/oppo-phones-f-82-0-p6.php\n",
      "realme 179 realme-phones-118.php 118 https://www.gsmarena.com/realme-phones-118.php\n",
      "realme 179 realme-phones-118.php 118 https://www.gsmarena.com/realme-phones-f-118-0-p2.php\n",
      "realme 179 realme-phones-118.php 118 https://www.gsmarena.com/realme-phones-f-118-0-p3.php\n",
      "samsung 1377 samsung-phones-9.php 9 https://www.gsmarena.com/samsung-phones-9.php\n",
      "samsung 1377 samsung-phones-9.php 9 https://www.gsmarena.com/samsung-phones-f-9-0-p2.php\n",
      "samsung 1377 samsung-phones-9.php 9 https://www.gsmarena.com/samsung-phones-f-9-0-p3.php\n",
      "samsung 1377 samsung-phones-9.php 9 https://www.gsmarena.com/samsung-phones-f-9-0-p4.php\n",
      "samsung 1377 samsung-phones-9.php 9 https://www.gsmarena.com/samsung-phones-f-9-0-p5.php\n",
      "samsung 1377 samsung-phones-9.php 9 https://www.gsmarena.com/samsung-phones-f-9-0-p6.php\n",
      "samsung 1377 samsung-phones-9.php 9 https://www.gsmarena.com/samsung-phones-f-9-0-p7.php\n",
      "samsung 1377 samsung-phones-9.php 9 https://www.gsmarena.com/samsung-phones-f-9-0-p8.php\n",
      "samsung 1377 samsung-phones-9.php 9 https://www.gsmarena.com/samsung-phones-f-9-0-p9.php\n",
      "samsung 1377 samsung-phones-9.php 9 https://www.gsmarena.com/samsung-phones-f-9-0-p10.php\n",
      "samsung 1377 samsung-phones-9.php 9 https://www.gsmarena.com/samsung-phones-f-9-0-p11.php\n",
      "samsung 1377 samsung-phones-9.php 9 https://www.gsmarena.com/samsung-phones-f-9-0-p12.php\n",
      "samsung 1377 samsung-phones-9.php 9 https://www.gsmarena.com/samsung-phones-f-9-0-p13.php\n",
      "samsung 1377 samsung-phones-9.php 9 https://www.gsmarena.com/samsung-phones-f-9-0-p14.php\n",
      "samsung 1377 samsung-phones-9.php 9 https://www.gsmarena.com/samsung-phones-f-9-0-p15.php\n",
      "samsung 1377 samsung-phones-9.php 9 https://www.gsmarena.com/samsung-phones-f-9-0-p16.php\n",
      "samsung 1377 samsung-phones-9.php 9 https://www.gsmarena.com/samsung-phones-f-9-0-p17.php\n",
      "samsung 1377 samsung-phones-9.php 9 https://www.gsmarena.com/samsung-phones-f-9-0-p18.php\n",
      "samsung 1377 samsung-phones-9.php 9 https://www.gsmarena.com/samsung-phones-f-9-0-p19.php\n",
      "samsung 1377 samsung-phones-9.php 9 https://www.gsmarena.com/samsung-phones-f-9-0-p20.php\n",
      "samsung 1377 samsung-phones-9.php 9 https://www.gsmarena.com/samsung-phones-f-9-0-p21.php\n",
      "samsung 1377 samsung-phones-9.php 9 https://www.gsmarena.com/samsung-phones-f-9-0-p22.php\n",
      "samsung 1377 samsung-phones-9.php 9 https://www.gsmarena.com/samsung-phones-f-9-0-p23.php\n",
      "samsung 1377 samsung-phones-9.php 9 https://www.gsmarena.com/samsung-phones-f-9-0-p24.php\n",
      "samsung 1377 samsung-phones-9.php 9 https://www.gsmarena.com/samsung-phones-f-9-0-p25.php\n",
      "samsung 1377 samsung-phones-9.php 9 https://www.gsmarena.com/samsung-phones-f-9-0-p26.php\n",
      "samsung 1377 samsung-phones-9.php 9 https://www.gsmarena.com/samsung-phones-f-9-0-p27.php\n",
      "samsung 1377 samsung-phones-9.php 9 https://www.gsmarena.com/samsung-phones-f-9-0-p28.php\n",
      "samsung 1377 samsung-phones-9.php 9 https://www.gsmarena.com/samsung-phones-f-9-0-p29.php\n",
      "samsung 1377 samsung-phones-9.php 9 https://www.gsmarena.com/samsung-phones-f-9-0-p30.php\n",
      "samsung 1377 samsung-phones-9.php 9 https://www.gsmarena.com/samsung-phones-f-9-0-p31.php\n",
      "samsung 1377 samsung-phones-9.php 9 https://www.gsmarena.com/samsung-phones-f-9-0-p32.php\n",
      "samsung 1377 samsung-phones-9.php 9 https://www.gsmarena.com/samsung-phones-f-9-0-p33.php\n",
      "vivo 401 vivo-phones-98.php 98 https://www.gsmarena.com/vivo-phones-98.php\n",
      "vivo 401 vivo-phones-98.php 98 https://www.gsmarena.com/vivo-phones-f-98-0-p2.php\n",
      "vivo 401 vivo-phones-98.php 98 https://www.gsmarena.com/vivo-phones-f-98-0-p3.php\n",
      "vivo 401 vivo-phones-98.php 98 https://www.gsmarena.com/vivo-phones-f-98-0-p4.php\n",
      "vivo 401 vivo-phones-98.php 98 https://www.gsmarena.com/vivo-phones-f-98-0-p5.php\n",
      "vivo 401 vivo-phones-98.php 98 https://www.gsmarena.com/vivo-phones-f-98-0-p6.php\n",
      "vivo 401 vivo-phones-98.php 98 https://www.gsmarena.com/vivo-phones-f-98-0-p7.php\n",
      "vivo 401 vivo-phones-98.php 98 https://www.gsmarena.com/vivo-phones-f-98-0-p8.php\n",
      "vivo 401 vivo-phones-98.php 98 https://www.gsmarena.com/vivo-phones-f-98-0-p9.php\n",
      "xiaomi 364 xiaomi-phones-80.php 80 https://www.gsmarena.com/xiaomi-phones-80.php\n",
      "xiaomi 364 xiaomi-phones-80.php 80 https://www.gsmarena.com/xiaomi-phones-f-80-0-p2.php\n",
      "xiaomi 364 xiaomi-phones-80.php 80 https://www.gsmarena.com/xiaomi-phones-f-80-0-p3.php\n",
      "xiaomi 364 xiaomi-phones-80.php 80 https://www.gsmarena.com/xiaomi-phones-f-80-0-p4.php\n",
      "xiaomi 364 xiaomi-phones-80.php 80 https://www.gsmarena.com/xiaomi-phones-f-80-0-p5.php\n",
      "xiaomi 364 xiaomi-phones-80.php 80 https://www.gsmarena.com/xiaomi-phones-f-80-0-p6.php\n",
      "xiaomi 364 xiaomi-phones-80.php 80 https://www.gsmarena.com/xiaomi-phones-f-80-0-p7.php\n",
      "xiaomi 364 xiaomi-phones-80.php 80 https://www.gsmarena.com/xiaomi-phones-f-80-0-p8.php\n"
     ]
    }
   ],
   "source": [
    "for brand, devices, link, code, pages in df.values:\n",
    "    for page in range(1, pages):\n",
    "        gen_link(brand, devices, link, code, page)"
   ]
  },
  {
   "cell_type": "code",
   "execution_count": 44,
   "metadata": {},
   "outputs": [
    {
     "data": {
      "text/plain": [
       "0"
      ]
     },
     "execution_count": 44,
     "metadata": {},
     "output_type": "execute_result"
    }
   ],
   "source": [
    "int(round(2 / 40, 0))"
   ]
  },
  {
   "cell_type": "code",
   "execution_count": 45,
   "metadata": {},
   "outputs": [
    {
     "data": {
      "text/html": [
       "<div>\n",
       "<style scoped>\n",
       "    .dataframe tbody tr th:only-of-type {\n",
       "        vertical-align: middle;\n",
       "    }\n",
       "\n",
       "    .dataframe tbody tr th {\n",
       "        vertical-align: top;\n",
       "    }\n",
       "\n",
       "    .dataframe thead th {\n",
       "        text-align: right;\n",
       "    }\n",
       "</style>\n",
       "<table border=\"1\" class=\"dataframe\">\n",
       "  <thead>\n",
       "    <tr style=\"text-align: right;\">\n",
       "      <th></th>\n",
       "      <th>brand</th>\n",
       "      <th>devices</th>\n",
       "      <th>link</th>\n",
       "      <th>code</th>\n",
       "      <th>gen_link</th>\n",
       "    </tr>\n",
       "  </thead>\n",
       "  <tbody>\n",
       "    <tr>\n",
       "      <th>0</th>\n",
       "      <td>huawei</td>\n",
       "      <td>436</td>\n",
       "      <td>huawei-phones-58.php</td>\n",
       "      <td>58</td>\n",
       "      <td>https://www.gsmarena.com/huawei-phones-58.php</td>\n",
       "    </tr>\n",
       "    <tr>\n",
       "      <th>1</th>\n",
       "      <td>huawei</td>\n",
       "      <td>436</td>\n",
       "      <td>huawei-phones-58.php</td>\n",
       "      <td>58</td>\n",
       "      <td>https://www.gsmarena.com/huawei-phones-f-58-0-...</td>\n",
       "    </tr>\n",
       "    <tr>\n",
       "      <th>2</th>\n",
       "      <td>huawei</td>\n",
       "      <td>436</td>\n",
       "      <td>huawei-phones-58.php</td>\n",
       "      <td>58</td>\n",
       "      <td>https://www.gsmarena.com/huawei-phones-f-58-0-...</td>\n",
       "    </tr>\n",
       "    <tr>\n",
       "      <th>3</th>\n",
       "      <td>huawei</td>\n",
       "      <td>436</td>\n",
       "      <td>huawei-phones-58.php</td>\n",
       "      <td>58</td>\n",
       "      <td>https://www.gsmarena.com/huawei-phones-f-58-0-...</td>\n",
       "    </tr>\n",
       "    <tr>\n",
       "      <th>4</th>\n",
       "      <td>huawei</td>\n",
       "      <td>436</td>\n",
       "      <td>huawei-phones-58.php</td>\n",
       "      <td>58</td>\n",
       "      <td>https://www.gsmarena.com/huawei-phones-f-58-0-...</td>\n",
       "    </tr>\n",
       "    <tr>\n",
       "      <th>...</th>\n",
       "      <td>...</td>\n",
       "      <td>...</td>\n",
       "      <td>...</td>\n",
       "      <td>...</td>\n",
       "      <td>...</td>\n",
       "    </tr>\n",
       "    <tr>\n",
       "      <th>83</th>\n",
       "      <td>xiaomi</td>\n",
       "      <td>364</td>\n",
       "      <td>xiaomi-phones-80.php</td>\n",
       "      <td>80</td>\n",
       "      <td>https://www.gsmarena.com/xiaomi-phones-f-80-0-...</td>\n",
       "    </tr>\n",
       "    <tr>\n",
       "      <th>84</th>\n",
       "      <td>xiaomi</td>\n",
       "      <td>364</td>\n",
       "      <td>xiaomi-phones-80.php</td>\n",
       "      <td>80</td>\n",
       "      <td>https://www.gsmarena.com/xiaomi-phones-f-80-0-...</td>\n",
       "    </tr>\n",
       "    <tr>\n",
       "      <th>85</th>\n",
       "      <td>xiaomi</td>\n",
       "      <td>364</td>\n",
       "      <td>xiaomi-phones-80.php</td>\n",
       "      <td>80</td>\n",
       "      <td>https://www.gsmarena.com/xiaomi-phones-f-80-0-...</td>\n",
       "    </tr>\n",
       "    <tr>\n",
       "      <th>86</th>\n",
       "      <td>xiaomi</td>\n",
       "      <td>364</td>\n",
       "      <td>xiaomi-phones-80.php</td>\n",
       "      <td>80</td>\n",
       "      <td>https://www.gsmarena.com/xiaomi-phones-f-80-0-...</td>\n",
       "    </tr>\n",
       "    <tr>\n",
       "      <th>87</th>\n",
       "      <td>xiaomi</td>\n",
       "      <td>364</td>\n",
       "      <td>xiaomi-phones-80.php</td>\n",
       "      <td>80</td>\n",
       "      <td>https://www.gsmarena.com/xiaomi-phones-f-80-0-...</td>\n",
       "    </tr>\n",
       "  </tbody>\n",
       "</table>\n",
       "<p>88 rows × 5 columns</p>\n",
       "</div>"
      ],
      "text/plain": [
       "     brand  devices                  link code  \\\n",
       "0   huawei      436  huawei-phones-58.php   58   \n",
       "1   huawei      436  huawei-phones-58.php   58   \n",
       "2   huawei      436  huawei-phones-58.php   58   \n",
       "3   huawei      436  huawei-phones-58.php   58   \n",
       "4   huawei      436  huawei-phones-58.php   58   \n",
       "..     ...      ...                   ...  ...   \n",
       "83  xiaomi      364  xiaomi-phones-80.php   80   \n",
       "84  xiaomi      364  xiaomi-phones-80.php   80   \n",
       "85  xiaomi      364  xiaomi-phones-80.php   80   \n",
       "86  xiaomi      364  xiaomi-phones-80.php   80   \n",
       "87  xiaomi      364  xiaomi-phones-80.php   80   \n",
       "\n",
       "                                             gen_link  \n",
       "0       https://www.gsmarena.com/huawei-phones-58.php  \n",
       "1   https://www.gsmarena.com/huawei-phones-f-58-0-...  \n",
       "2   https://www.gsmarena.com/huawei-phones-f-58-0-...  \n",
       "3   https://www.gsmarena.com/huawei-phones-f-58-0-...  \n",
       "4   https://www.gsmarena.com/huawei-phones-f-58-0-...  \n",
       "..                                                ...  \n",
       "83  https://www.gsmarena.com/xiaomi-phones-f-80-0-...  \n",
       "84  https://www.gsmarena.com/xiaomi-phones-f-80-0-...  \n",
       "85  https://www.gsmarena.com/xiaomi-phones-f-80-0-...  \n",
       "86  https://www.gsmarena.com/xiaomi-phones-f-80-0-...  \n",
       "87  https://www.gsmarena.com/xiaomi-phones-f-80-0-...  \n",
       "\n",
       "[88 rows x 5 columns]"
      ]
     },
     "execution_count": 45,
     "metadata": {},
     "output_type": "execute_result"
    }
   ],
   "source": [
    "df1 = pd.DataFrame(data2, columns=[\"brand\", \"devices\", \"link\", \"code\", \"gen_link\"])\n",
    "df1"
   ]
  },
  {
   "cell_type": "code",
   "execution_count": 46,
   "metadata": {},
   "outputs": [],
   "source": [
    "df1.to_csv(\"./data/gsmarena_brand_link1.csv\", index=False)"
   ]
  },
  {
   "cell_type": "code",
   "execution_count": 47,
   "metadata": {},
   "outputs": [
    {
     "data": {
      "text/plain": [
       "88"
      ]
     },
     "execution_count": 47,
     "metadata": {},
     "output_type": "execute_result"
    }
   ],
   "source": [
    "len(df1)"
   ]
  }
 ],
 "metadata": {
  "kernelspec": {
   "display_name": "base",
   "language": "python",
   "name": "python3"
  },
  "language_info": {
   "codemirror_mode": {
    "name": "ipython",
    "version": 3
   },
   "file_extension": ".py",
   "mimetype": "text/x-python",
   "name": "python",
   "nbconvert_exporter": "python",
   "pygments_lexer": "ipython3",
   "version": "3.11.5"
  }
 },
 "nbformat": 4,
 "nbformat_minor": 2
}
