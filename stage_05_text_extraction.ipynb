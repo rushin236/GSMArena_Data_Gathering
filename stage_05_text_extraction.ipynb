{
 "cells": [
  {
   "cell_type": "code",
   "execution_count": 1,
   "metadata": {},
   "outputs": [],
   "source": [
    "import pandas as pd\n",
    "import numpy as np\n",
    "from bs4 import BeautifulSoup"
   ]
  },
  {
   "cell_type": "code",
   "execution_count": 32,
   "metadata": {},
   "outputs": [
    {
     "data": {
      "text/html": [
       "<div>\n",
       "<style scoped>\n",
       "    .dataframe tbody tr th:only-of-type {\n",
       "        vertical-align: middle;\n",
       "    }\n",
       "\n",
       "    .dataframe tbody tr th {\n",
       "        vertical-align: top;\n",
       "    }\n",
       "\n",
       "    .dataframe thead th {\n",
       "        text-align: right;\n",
       "    }\n",
       "</style>\n",
       "<table border=\"1\" class=\"dataframe\">\n",
       "  <thead>\n",
       "    <tr style=\"text-align: right;\">\n",
       "      <th></th>\n",
       "      <th>brand</th>\n",
       "      <th>name</th>\n",
       "      <th>prod_link</th>\n",
       "      <th>img_link</th>\n",
       "      <th>devices</th>\n",
       "      <th>link</th>\n",
       "      <th>code</th>\n",
       "      <th>gen_link</th>\n",
       "      <th>html</th>\n",
       "      <th>prod_html</th>\n",
       "    </tr>\n",
       "  </thead>\n",
       "  <tbody>\n",
       "    <tr>\n",
       "      <th>0</th>\n",
       "      <td>huawei</td>\n",
       "      <td>nova 11 SE</td>\n",
       "      <td>https://www.gsmarena.com/huawei_nova_11_se-126...</td>\n",
       "      <td>https://fdn2.gsmarena.com/vv/bigpic/huawei-nov...</td>\n",
       "      <td>436</td>\n",
       "      <td>huawei_nova_11_se-12648.php</td>\n",
       "      <td>58</td>\n",
       "      <td>https://www.gsmarena.com/huawei-phones-58.php</td>\n",
       "      <td>\\r\\n&lt;!doctype html&gt;\\r\\n&lt;html xmlns=\"http://www...</td>\n",
       "      <td>&lt;!doctype html&gt;\\r\\n&lt;html xmlns=\"http://www.w3....</td>\n",
       "    </tr>\n",
       "    <tr>\n",
       "      <th>1</th>\n",
       "      <td>huawei</td>\n",
       "      <td>Mate 60 Pro+</td>\n",
       "      <td>https://www.gsmarena.com/huawei_mate_60_pro+-1...</td>\n",
       "      <td>https://fdn2.gsmarena.com/vv/bigpic/huawei-mat...</td>\n",
       "      <td>436</td>\n",
       "      <td>huawei_mate_60_pro+-12549.php</td>\n",
       "      <td>58</td>\n",
       "      <td>https://www.gsmarena.com/huawei-phones-58.php</td>\n",
       "      <td>\\r\\n&lt;!doctype html&gt;\\r\\n&lt;html xmlns=\"http://www...</td>\n",
       "      <td>&lt;!doctype html&gt;\\r\\n&lt;html xmlns=\"http://www.w3....</td>\n",
       "    </tr>\n",
       "    <tr>\n",
       "      <th>2</th>\n",
       "      <td>huawei</td>\n",
       "      <td>Mate X5</td>\n",
       "      <td>https://www.gsmarena.com/huawei_mate_x5-12550.php</td>\n",
       "      <td>https://fdn2.gsmarena.com/vv/bigpic/huawei-mat...</td>\n",
       "      <td>436</td>\n",
       "      <td>huawei_mate_x5-12550.php</td>\n",
       "      <td>58</td>\n",
       "      <td>https://www.gsmarena.com/huawei-phones-58.php</td>\n",
       "      <td>\\r\\n&lt;!doctype html&gt;\\r\\n&lt;html xmlns=\"http://www...</td>\n",
       "      <td>&lt;!doctype html&gt;\\r\\n&lt;html xmlns=\"http://www.w3....</td>\n",
       "    </tr>\n",
       "    <tr>\n",
       "      <th>3</th>\n",
       "      <td>huawei</td>\n",
       "      <td>Mate 60 Pro</td>\n",
       "      <td>https://www.gsmarena.com/huawei_mate_60_pro-12...</td>\n",
       "      <td>https://fdn2.gsmarena.com/vv/bigpic/huawei-mat...</td>\n",
       "      <td>436</td>\n",
       "      <td>huawei_mate_60_pro-12530.php</td>\n",
       "      <td>58</td>\n",
       "      <td>https://www.gsmarena.com/huawei-phones-58.php</td>\n",
       "      <td>\\r\\n&lt;!doctype html&gt;\\r\\n&lt;html xmlns=\"http://www...</td>\n",
       "      <td>&lt;!doctype html&gt;\\r\\n&lt;html xmlns=\"http://www.w3....</td>\n",
       "    </tr>\n",
       "    <tr>\n",
       "      <th>4</th>\n",
       "      <td>huawei</td>\n",
       "      <td>nova Y91</td>\n",
       "      <td>https://www.gsmarena.com/huawei_nova_y91-12290...</td>\n",
       "      <td>https://fdn2.gsmarena.com/vv/bigpic/huawei-nov...</td>\n",
       "      <td>436</td>\n",
       "      <td>huawei_nova_y91-12290.php</td>\n",
       "      <td>58</td>\n",
       "      <td>https://www.gsmarena.com/huawei-phones-58.php</td>\n",
       "      <td>\\r\\n&lt;!doctype html&gt;\\r\\n&lt;html xmlns=\"http://www...</td>\n",
       "      <td>&lt;!doctype html&gt;\\r\\n&lt;html xmlns=\"http://www.w3....</td>\n",
       "    </tr>\n",
       "  </tbody>\n",
       "</table>\n",
       "</div>"
      ],
      "text/plain": [
       "    brand          name                                          prod_link  \\\n",
       "0  huawei    nova 11 SE  https://www.gsmarena.com/huawei_nova_11_se-126...   \n",
       "1  huawei  Mate 60 Pro+  https://www.gsmarena.com/huawei_mate_60_pro+-1...   \n",
       "2  huawei       Mate X5  https://www.gsmarena.com/huawei_mate_x5-12550.php   \n",
       "3  huawei   Mate 60 Pro  https://www.gsmarena.com/huawei_mate_60_pro-12...   \n",
       "4  huawei      nova Y91  https://www.gsmarena.com/huawei_nova_y91-12290...   \n",
       "\n",
       "                                            img_link  devices  \\\n",
       "0  https://fdn2.gsmarena.com/vv/bigpic/huawei-nov...      436   \n",
       "1  https://fdn2.gsmarena.com/vv/bigpic/huawei-mat...      436   \n",
       "2  https://fdn2.gsmarena.com/vv/bigpic/huawei-mat...      436   \n",
       "3  https://fdn2.gsmarena.com/vv/bigpic/huawei-mat...      436   \n",
       "4  https://fdn2.gsmarena.com/vv/bigpic/huawei-nov...      436   \n",
       "\n",
       "                            link  code  \\\n",
       "0    huawei_nova_11_se-12648.php    58   \n",
       "1  huawei_mate_60_pro+-12549.php    58   \n",
       "2       huawei_mate_x5-12550.php    58   \n",
       "3   huawei_mate_60_pro-12530.php    58   \n",
       "4      huawei_nova_y91-12290.php    58   \n",
       "\n",
       "                                        gen_link  \\\n",
       "0  https://www.gsmarena.com/huawei-phones-58.php   \n",
       "1  https://www.gsmarena.com/huawei-phones-58.php   \n",
       "2  https://www.gsmarena.com/huawei-phones-58.php   \n",
       "3  https://www.gsmarena.com/huawei-phones-58.php   \n",
       "4  https://www.gsmarena.com/huawei-phones-58.php   \n",
       "\n",
       "                                                html  \\\n",
       "0  \\r\\n<!doctype html>\\r\\n<html xmlns=\"http://www...   \n",
       "1  \\r\\n<!doctype html>\\r\\n<html xmlns=\"http://www...   \n",
       "2  \\r\\n<!doctype html>\\r\\n<html xmlns=\"http://www...   \n",
       "3  \\r\\n<!doctype html>\\r\\n<html xmlns=\"http://www...   \n",
       "4  \\r\\n<!doctype html>\\r\\n<html xmlns=\"http://www...   \n",
       "\n",
       "                                           prod_html  \n",
       "0  <!doctype html>\\r\\n<html xmlns=\"http://www.w3....  \n",
       "1  <!doctype html>\\r\\n<html xmlns=\"http://www.w3....  \n",
       "2  <!doctype html>\\r\\n<html xmlns=\"http://www.w3....  \n",
       "3  <!doctype html>\\r\\n<html xmlns=\"http://www.w3....  \n",
       "4  <!doctype html>\\r\\n<html xmlns=\"http://www.w3....  "
      ]
     },
     "execution_count": 32,
     "metadata": {},
     "output_type": "execute_result"
    }
   ],
   "source": [
    "df = pd.read_csv(\"./data/gsmarena_product_data_final_clean.csv\")\n",
    "df.head()"
   ]
  },
  {
   "cell_type": "code",
   "execution_count": 33,
   "metadata": {},
   "outputs": [],
   "source": [
    "df1 = pd.DataFrame()"
   ]
  },
  {
   "cell_type": "code",
   "execution_count": 38,
   "metadata": {},
   "outputs": [],
   "source": [
    "df1['brand'] = df['brand']"
   ]
  },
  {
   "cell_type": "code",
   "execution_count": 39,
   "metadata": {},
   "outputs": [],
   "source": [
    "df1['phone_name'] = df['name']"
   ]
  },
  {
   "cell_type": "code",
   "execution_count": 37,
   "metadata": {},
   "outputs": [
    {
     "data": {
      "text/plain": [
       "(3019, 10)"
      ]
     },
     "execution_count": 37,
     "metadata": {},
     "output_type": "execute_result"
    }
   ],
   "source": [
    "df.shape"
   ]
  },
  {
   "cell_type": "code",
   "execution_count": 34,
   "metadata": {},
   "outputs": [],
   "source": [
    "page = df['prod_html'][0]"
   ]
  },
  {
   "cell_type": "code",
   "execution_count": 35,
   "metadata": {},
   "outputs": [],
   "source": [
    "soup = BeautifulSoup(page, \"html.parser\")"
   ]
  },
  {
   "cell_type": "code",
   "execution_count": 46,
   "metadata": {},
   "outputs": [],
   "source": [
    "def get_data_text(html):\n",
    "    soup = BeautifulSoup(html, \"html.parser\")\n",
    "    tables = soup.select('table')\n",
    "    data = \"\"\n",
    "    for table in tables:\n",
    "        feature_title = table.select_one('th')\n",
    "        if feature_title is not None:\n",
    "            data += feature_title.text.strip() + \" \"\n",
    "            # print(table, \"\\n\")\n",
    "            features = table.select(\"td.ttl\")\n",
    "            feature_specs = table.select(\"td.nfo\")\n",
    "            for feature, spec in zip(features, feature_specs):\n",
    "                if feature.text.strip() == \"\":\n",
    "                    data += spec.text.strip() + \" \"\n",
    "                else:\n",
    "                    data += (feature.text.strip() + \" \" + spec.text.strip()) + \" \"\n",
    "\n",
    "    return data"
   ]
  },
  {
   "cell_type": "code",
   "execution_count": 47,
   "metadata": {},
   "outputs": [],
   "source": [
    "df1['text'] = df['prod_html'].apply(lambda x: get_data_text(x))"
   ]
  },
  {
   "cell_type": "code",
   "execution_count": 48,
   "metadata": {},
   "outputs": [
    {
     "data": {
      "text/plain": [
       "(3019, 10)"
      ]
     },
     "execution_count": 48,
     "metadata": {},
     "output_type": "execute_result"
    }
   ],
   "source": [
    "df.shape"
   ]
  },
  {
   "cell_type": "code",
   "execution_count": 53,
   "metadata": {},
   "outputs": [],
   "source": [
    "df1.to_csv(\"./data/gsmarena_product_data_final_text1.csv\", index=False)"
   ]
  },
  {
   "cell_type": "code",
   "execution_count": null,
   "metadata": {},
   "outputs": [],
   "source": []
  }
 ],
 "metadata": {
  "kernelspec": {
   "display_name": "base",
   "language": "python",
   "name": "python3"
  },
  "language_info": {
   "codemirror_mode": {
    "name": "ipython",
    "version": 3
   },
   "file_extension": ".py",
   "mimetype": "text/x-python",
   "name": "python",
   "nbconvert_exporter": "python",
   "pygments_lexer": "ipython3",
   "version": "3.11.5"
  }
 },
 "nbformat": 4,
 "nbformat_minor": 2
}
